{
  "nbformat": 4,
  "nbformat_minor": 0,
  "metadata": {
    "colab": {
      "name": "Copy of Advanced ML korme",
      "provenance": [],
      "collapsed_sections": []
    },
    "kernelspec": {
      "name": "python3",
      "display_name": "Python 3"
    },
    "language_info": {
      "name": "python"
    }
  },
  "cells": [
    {
      "cell_type": "code",
      "metadata": {
        "colab": {
          "base_uri": "https://localhost:8080/"
        },
        "id": "KG9sqL6uPyhk",
        "outputId": "7394d935-e79c-40c4-e3e3-56e4329767bb"
      },
      "source": [
        "from google.colab import drive\n",
        "drive.mount('/content/drive')"
      ],
      "execution_count": 58,
      "outputs": [
        {
          "output_type": "stream",
          "text": [
            "Drive already mounted at /content/drive; to attempt to forcibly remount, call drive.mount(\"/content/drive\", force_remount=True).\n"
          ],
          "name": "stdout"
        }
      ]
    },
    {
      "cell_type": "code",
      "metadata": {
        "colab": {
          "base_uri": "https://localhost:8080/"
        },
        "id": "-9dMxqQMRUFh",
        "outputId": "eadb4bf4-ed94-4e3e-f74f-f7ec53e5bf07"
      },
      "source": [
        "%cd /content/drive/MyDrive/masters/Advanced_AI"
      ],
      "execution_count": 59,
      "outputs": [
        {
          "output_type": "stream",
          "text": [
            "/content/drive/MyDrive/masters/Advanced_AI\n"
          ],
          "name": "stdout"
        }
      ]
    },
    {
      "cell_type": "code",
      "metadata": {
        "colab": {
          "base_uri": "https://localhost:8080/"
        },
        "id": "gFcmo43VU2gL",
        "outputId": "2f7950db-ccdf-4266-b435-84716d43a2c2"
      },
      "source": [
        "import nltk\n",
        "nltk.download('stopwords')"
      ],
      "execution_count": 60,
      "outputs": [
        {
          "output_type": "stream",
          "text": [
            "[nltk_data] Downloading package stopwords to /root/nltk_data...\n",
            "[nltk_data]   Package stopwords is already up-to-date!\n"
          ],
          "name": "stdout"
        },
        {
          "output_type": "execute_result",
          "data": {
            "text/plain": [
              "True"
            ]
          },
          "metadata": {
            "tags": []
          },
          "execution_count": 60
        }
      ]
    },
    {
      "cell_type": "code",
      "metadata": {
        "id": "K_hnRzAWRuwk"
      },
      "source": [
        "# imports\n",
        "import nltk\n",
        "import numpy as np\n",
        "np.random.seed(0)\n",
        "import pandas as pd\n",
        "import tensorflow as tf\n",
        "import os\n",
        "from collections import Counter\n",
        "import json\n",
        "import imblearn\n",
        "from imblearn.over_sampling import RandomOverSampler\n",
        "from imblearn.under_sampling import RandomUnderSampler\n",
        "import gensim\n",
        "import matplotlib.pyplot as plt\n",
        "import keras\n",
        "from keras.models import Model\n",
        "from keras.layers import Dense, Dropout, Activation, Input\n",
        "from keras.layers import Embedding\n",
        "from keras.layers import LSTM, Flatten\n",
        "from keras.layers import Conv1D, MaxPooling1D, AveragePooling1D, GlobalAveragePooling1D, GlobalMaxPooling1D\n",
        "from keras.utils.vis_utils import plot_model\n",
        "from keras.wrappers.scikit_learn import KerasClassifier\n",
        "import sklearn\n",
        "from sklearn.svm import SVC\n",
        "from sklearn.preprocessing import LabelEncoder\n",
        "from sklearn.feature_extraction.text import CountVectorizer, TfidfVectorizer\n",
        "from sklearn.metrics import *\n",
        "from sklearn.ensemble import RandomForestClassifier\n",
        "from sklearn.naive_bayes import GaussianNB\n",
        "from sklearn.naive_bayes import MultinomialNB\n",
        "from imblearn.combine import SMOTETomek\n"
      ],
      "execution_count": 61,
      "outputs": []
    },
    {
      "cell_type": "code",
      "metadata": {
        "id": "Pnteq_cyScEM"
      },
      "source": [
        "class Pipeline:\n",
        "\n",
        "    def __init__(self, load_setting, n_classes):\n",
        "        self.load_setting = load_setting\n",
        "        self.n_classes = n_classes\n",
        "        pass\n",
        "\n",
        "    # label names getter\n",
        "    def get_label_names(self):\n",
        "        try: return self.enc.inverse_transform(list(range(self.n_classes)))\n",
        "        except AttributeError:\n",
        "            print(\"There is no attribute enc in Preprocessor. encoder is not used in binary classification\")\n",
        "\n",
        "    # loading and preprocessing data.\n",
        "    def pipe(self):\n",
        "        data = self.read_data()\n",
        "        tweets, labels = self.transform_data(data)\n",
        "        tweets = self.preprocessing(tweets)\n",
        "        return tweets, labels\n",
        "\n",
        "    def preprocessing(self, tw):\n",
        "        tw = [nltk.re.sub(r\"http\\S+\", \"link\", text) for text in tw]  # replacing links: <LINK>\n",
        "        tw = [nltk.re.sub(r\"@\\S+\", \"tag\", text) for text in tw]  # replacing tags: <TAG>\n",
        "        tw = [nltk.re.sub(r'[0-9]+', \" digits \", text) for text in tw]  # replacing tags: digit\n",
        "        tw = [nltk.re.sub(r\"[\\'|\\\"]\", \" \", text) for text in tw]  # removing ' and \"\n",
        "        tw = [nltk.re.sub(r\"\\b\\w\\b\", \"\", text) for text in tw]  # remove single character words\n",
        "        text_to_list = tf.keras.preprocessing.text.text_to_word_sequence\n",
        "        tw = [text_to_list(sentence) for sentence in tw]\n",
        "        stopwords = set(nltk.corpus.stopwords.words('english'))\n",
        "        tw = [[word for word in words if word not in stopwords] for words in tw]\n",
        "        tw = [\" \".join(tweet) for tweet in tw]\n",
        "        return np.asarray(tw)\n",
        "\n",
        "    # if called only for test: train_data is None --> so it returns None xtrain var.\n",
        "    def tokens(self, test_data, train_data=None, tokenizer=None, maxim=None):\n",
        "        xtrain = None\n",
        "        self.maxim = maxim\n",
        "        if train_data is not None:\n",
        "            tokenizer = tf.keras.preprocessing.text.Tokenizer(oov_token='<OOV>')\n",
        "            tokenizer.fit_on_texts(train_data)\n",
        "            train_indexes = tokenizer.texts_to_sequences(train_data)\n",
        "            if self.maxim is None:\n",
        "                self.maxim = max([len(i) for i in train_indexes])\n",
        "            xtrain = tf.keras.preprocessing.sequence.pad_sequences(train_indexes, maxlen=self.maxim)\n",
        "        test_indexes = tokenizer.texts_to_sequences(test_data)\n",
        "        xtest = tf.keras.preprocessing.sequence.pad_sequences(test_indexes, maxlen=self.maxim)\n",
        "        return tokenizer, xtrain, xtest\n",
        "\n",
        "    def balance(self, tweets, labels, strategy=\"under\"):\n",
        "        enc = sklearn.preprocessing.OneHotEncoder()\n",
        "        vec = sklearn.feature_extraction.text.CountVectorizer()\n",
        "        # tweets = tweets.reshape((-1,1))\n",
        "        tweets_enc = vec.fit_transform(tweets)\n",
        "        tweets_enc = tweets_enc.toarray()\n",
        "        labels = np.argmax(labels, axis=1)\n",
        "        if strategy == \"under\":\n",
        "            undersample = imblearn.under_sampling.RandomUnderSampler(sampling_strategy='majority')\n",
        "            y_res, x_res = undersample.fit_resample(tweets_enc, labels)\n",
        "        elif strategy == \"over\":\n",
        "            oversample = imblearn.over_sampling.RandomOverSampler(sampling_strategy='minority')\n",
        "            y_res, x_res = oversample.fit_resample(tweets_enc, labels)\n",
        "        else:\n",
        "            mix = imblearn.combine.SMOTEENN(random_state=0)\n",
        "            y_res, x_res = mix.fit_resample(tweets_enc, labels)\n",
        "        x_res = vec.inverse_transform(x_res)\n",
        "        # x_res = x_res.flatten()\n",
        "        y_res = enc.fit_transform(y_res)\n",
        "        return x_res, y_res\n",
        "\n",
        "    def balancing(self, tweets, labels, strategy=\"under\"):\n",
        "        \n",
        "        labels = np.argmax(labels, axis=1)\n",
        "        if strategy == \"under\":\n",
        "            tweets = tweets.reshape((-1, 1))\n",
        "            undersample = RandomUnderSampler(sampling_strategy='majority')\n",
        "            tweets, labels = undersample.fit_resample(tweets, labels)\n",
        "            tweets = tweets.reshape((-1,))\n",
        "        elif strategy == \"over\":\n",
        "            tweets = tweets.reshape((-1, 1))\n",
        "            oversample = RandomOverSampler(sampling_strategy='minority')\n",
        "            tweets, labels = oversample.fit_resample(tweets, labels)\n",
        "            tweets = tweets.reshape((-1,))\n",
        "\n",
        "        else:\n",
        "            mix = imblearn.combine.SMOTETomek(random_state=0)\n",
        "            tweets,labels = mix.fit_resample(tweets,labels)\n",
        "        labels = tf.keras.utils.to_categorical(labels, num_classes=len(Counter(labels)), dtype='float32')\n",
        "        return tweets, labels\n",
        "\n",
        "    def splitting(self, tweets, labels):\n",
        "        split = sklearn.model_selection.StratifiedShuffleSplit(n_splits=1,\n",
        "                                                                   test_size=0.1,\n",
        "                                                                   random_state=20)\n",
        "        train_idx, test_idx = list(split.split(tweets, labels))[0]\n",
        "        xtrain = tweets[train_idx]\n",
        "        ytrain = labels[train_idx]\n",
        "        xtest = tweets[test_idx]\n",
        "        ytest = labels[test_idx]\n",
        "        return xtrain, ytrain, xtest, ytest\n",
        "\n",
        "    def transform_data(self, data):\n",
        "        tweets = data.iloc[:, 1].to_numpy()  # tweets to nd array\n",
        "        if self.load_setting == \"relatedness\":\n",
        "            labels = data.iloc[:, 4].to_numpy()  # informativeness is the label column.\n",
        "        elif self.load_setting == \"info_source\":\n",
        "            labels = data.iloc[:,2]\n",
        "        elif self.load_setting == \"info_type\":\n",
        "            labels = data.iloc[:,3]\n",
        "\n",
        "        if self.load_setting != \"relatedness\":\n",
        "            self.enc = LabelEncoder()\n",
        "            labels = self.enc.fit_transform(labels)\n",
        "        else:\n",
        "            # convert label values: not related --> 0 , related --> 1\n",
        "            for i, label in enumerate(labels):\n",
        "                if label == \"Not applicable\":\n",
        "                    labels[i] = 0\n",
        "                elif label == \"Not related\":\n",
        "                    labels[i] = 0\n",
        "                else:\n",
        "                    labels[i] = 1\n",
        "        labels = tf.keras.utils.to_categorical(labels, num_classes=len(Counter(labels)), dtype='float32')\n",
        "        return tweets, labels\n",
        "\n",
        "    def read_data(self):\n",
        "        try:\n",
        "            data = pd.read_csv(\"data/data.csv\")\n",
        "        except FileNotFoundError:\n",
        "            print(\"there is no dataset in \")\n",
        "            list_subfolders = sorted([f.name for f in os.scandir(\"data\") if\n",
        "                                      f.is_dir()])  # scans the folder \"data\" to get a list of all subfolders\n",
        "            # data is the dataframe for all concatenated datasets , initialized with the first crisis data\n",
        "            data = pd.read_csv(\"data/\" + list_subfolders[0] + \"/\" + list_subfolders[0] + \"-tweets_labeled.csv\")\n",
        "            for i, crisis in enumerate(list_subfolders):\n",
        "                if i == 0: continue\n",
        "                crisis_data = pd.read_csv(\n",
        "                    \"data/\" + list_subfolders[i] + \"/\" + list_subfolders[i] + \"-tweets_labeled.csv\")\n",
        "                data = pd.concat([data, crisis_data], sort=False, ignore_index=True)\n",
        "        return data"
      ],
      "execution_count": 62,
      "outputs": []
    },
    {
      "cell_type": "code",
      "metadata": {
        "id": "KOnWQJ_bToNr"
      },
      "source": [
        "# configurations\n",
        "# ~~~~~setting up the parameters of the model~~~~~~~~~~~~~~~~~~~~\n",
        "# data settings\n",
        "loading_option = \"relatedness\"  # relatedness or info_source or info_type\n",
        "balancing = True\n",
        "strategy = \"under\"\n",
        "max_features = 1000\n",
        "# ****************************************************\n",
        "# Auto-config\n",
        "if loading_option == \"relatedness\":\n",
        "    n_class = 2\n",
        "else:\n",
        "    n_class = 8\n"
      ],
      "execution_count": 63,
      "outputs": []
    },
    {
      "cell_type": "code",
      "metadata": {
        "id": "CFJswhDgDOg6"
      },
      "source": [
        ""
      ],
      "execution_count": 63,
      "outputs": []
    },
    {
      "cell_type": "code",
      "metadata": {
        "id": "1LHoiQszULbh",
        "colab": {
          "base_uri": "https://localhost:8080/"
        },
        "outputId": "1b194aa6-687b-4dc1-c8bd-0ed88f3780e9"
      },
      "source": [
        "  # loading and preprocessing data\n",
        "  p = Pipeline(load_setting=loading_option, n_classes=n_class)\n",
        "  tweets, labels = p.pipe()\n",
        "  xtrain, ytrain, xtest, ytest = p.splitting(tweets, labels)\n",
        "  print(xtrain.shape)\n",
        "  if balancing:\n",
        "    if strategy==\"mix\":    \n",
        "      vectorizer = CountVectorizer(max_features=max_features)\n",
        "      xtrain = vectorizer.fit_transform(xtrain).toarray()\n",
        "      xtest = vectorizer.transform(xtest).toarray()\n",
        "    xtrain, ytrain = p.balancing(xtrain, ytrain, strategy)\n",
        "    xtest, ytest = p.balancing(xtest, ytest, strategy)\n",
        "    if strategy==\"mix\":\n",
        "      xtrain = vectorizer.inverse_transform(xtrain)\n",
        "      xtest = vectorizer.inverse_transform(xtest)\n",
        "      for i,tweet in enumerate(xtrain):\n",
        "        xtrain[i]=\" \".join(tweet)\n",
        "      for i,tweet in enumerate(xtest):\n",
        "        xtest[i]=\" \".join(tweet)\n",
        "    xtrain = np.array(xtrain)\n",
        "    xtest = np.array(xtest)\n",
        "      \n",
        "  ytrain = np.argmax(ytrain,axis=1)\n",
        "  ytest = np.argmax(ytest, axis=1)\n",
        "  vectorizer = CountVectorizer(max_features=max_features)\n",
        "  print(xtrain.shape)\n",
        "  print(xtrain[0])\n",
        "  xtrain = vectorizer.fit_transform(xtrain).toarray()\n",
        "  xtest = vectorizer.transform(xtest).toarray()\n"
      ],
      "execution_count": 64,
      "outputs": [
        {
          "output_type": "stream",
          "text": [
            "(25139,)\n",
            "(6034,)\n",
            "actually amazing link bigwet\n"
          ],
          "name": "stdout"
        },
        {
          "output_type": "stream",
          "text": [
            "/usr/local/lib/python3.7/dist-packages/sklearn/utils/deprecation.py:87: FutureWarning: Function safe_indexing is deprecated; safe_indexing is deprecated in version 0.22 and will be removed in version 0.24.\n",
            "  warnings.warn(msg, category=FutureWarning)\n",
            "/usr/local/lib/python3.7/dist-packages/sklearn/utils/deprecation.py:87: FutureWarning: Function safe_indexing is deprecated; safe_indexing is deprecated in version 0.22 and will be removed in version 0.24.\n",
            "  warnings.warn(msg, category=FutureWarning)\n"
          ],
          "name": "stderr"
        }
      ]
    },
    {
      "cell_type": "markdown",
      "metadata": {
        "id": "Dn2SxqUjkqUp"
      },
      "source": [
        "Εδω φτιαξε εναν απλο classifier και κανε fit kai predict. you know the drill :P"
      ]
    },
    {
      "cell_type": "code",
      "metadata": {
        "colab": {
          "base_uri": "https://localhost:8080/",
          "height": 432
        },
        "id": "S_xE0vEIDF5h",
        "outputId": "15bc0449-e95e-4653-e6be-aee821a6e561"
      },
      "source": [
        "l = sklearn.linear_model.LogisticRegression(max_iter=500)\n",
        "l.fit(xtrain,ytrain)\n",
        "ypred = l.predict(xtest)\n",
        "print(classification_report(ytest, ypred))\n",
        "sklearn.metrics.plot_roc_curve(l, xtest, ytest)\n",
        "plt.show()"
      ],
      "execution_count": 56,
      "outputs": [
        {
          "output_type": "stream",
          "text": [
            "              precision    recall  f1-score   support\n",
            "\n",
            "           0       0.83      0.76      0.79      2459\n",
            "           1       0.78      0.85      0.81      2459\n",
            "\n",
            "    accuracy                           0.80      4918\n",
            "   macro avg       0.80      0.80      0.80      4918\n",
            "weighted avg       0.80      0.80      0.80      4918\n",
            "\n"
          ],
          "name": "stdout"
        },
        {
          "output_type": "display_data",
          "data": {
            "image/png": "[encoded data removed]",
            "text/plain": [
              "<Figure size 432x288 with 1 Axes>"
            ]
          },
          "metadata": {
            "tags": [],
            "needs_background": "light"
          }
        }
      ]
    },
    {
      "cell_type": "code",
      "metadata": {
        "id": "LlF8E8zPkp5W",
        "colab": {
          "base_uri": "https://localhost:8080/",
          "height": 432
        },
        "outputId": "a1bd585a-c21e-4068-f965-35407e60ec4f"
      },
      "source": [
        "model = sklearn.naive_bayes.MultinomialNB()\n",
        "model.fit(xtrain,ytrain)\n",
        "ypred = model.predict(xtest)\n",
        "print(classification_report(ytest, ypred))\n",
        "sklearn.metrics.plot_roc_curve(model, xtest, ytest)\n",
        "plt.show()"
      ],
      "execution_count": 57,
      "outputs": [
        {
          "output_type": "stream",
          "text": [
            "              precision    recall  f1-score   support\n",
            "\n",
            "           0       0.84      0.66      0.74      2459\n",
            "           1       0.72      0.87      0.79      2459\n",
            "\n",
            "    accuracy                           0.77      4918\n",
            "   macro avg       0.78      0.77      0.76      4918\n",
            "weighted avg       0.78      0.77      0.76      4918\n",
            "\n"
          ],
          "name": "stdout"
        },
        {
          "output_type": "display_data",
          "data": {
            "image/png": "[encoded data removed]",
            "text/plain": [
              "<Figure size 432x288 with 1 Axes>"
            ]
          },
          "metadata": {
            "tags": [],
            "needs_background": "light"
          }
        }
      ]
    }
  ]
}